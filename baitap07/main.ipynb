{
 "cells": [
  {
   "cell_type": "markdown",
   "id": "18a1485e",
   "metadata": {},
   "source": [
    "Bài1 Cây Khung DFS"
   ]
  },
  {
   "cell_type": "code",
   "execution_count": 2,
   "id": "3498c587",
   "metadata": {},
   "outputs": [
    {
     "name": "stdout",
     "output_type": "stream",
     "text": [
      "5\n",
      "1 2\n",
      "2 4\n",
      "2 5\n",
      "5 6\n",
      "1 3\n"
     ]
    }
   ],
   "source": [
    "!g++ caykhung_dfs.cpp -o caykhung_dfs\n",
    "!./caykhung_dfs"
   ]
  },
  {
   "cell_type": "markdown",
   "id": "a9608203",
   "metadata": {},
   "source": [
    "Bài 2 Cây Khung BFS"
   ]
  },
  {
   "cell_type": "code",
   "execution_count": 7,
   "id": "3cd9680a",
   "metadata": {},
   "outputs": [
    {
     "name": "stdout",
     "output_type": "stream",
     "text": [
      "5\n",
      "1 2\n",
      "1 3\n",
      "1 6\n",
      "2 4\n",
      "2 5\n"
     ]
    }
   ],
   "source": [
    "!g++ caykhung_bfs.cpp -o caykhung_bfs\n",
    "!./caykhung_bfs"
   ]
  },
  {
   "cell_type": "markdown",
   "id": "4b3a65e3",
   "metadata": {},
   "source": [
    "Bài 3 Kruskai"
   ]
  },
  {
   "cell_type": "code",
   "execution_count": 12,
   "id": "626d0ef6",
   "metadata": {},
   "outputs": [
    {
     "name": "stdout",
     "output_type": "stream",
     "text": [
      "6 42\n",
      "1 3 5\n",
      "2 4 2\n",
      "3 4 3\n",
      "3 6 16\n",
      "4 5 12\n",
      "5 7 4\n"
     ]
    }
   ],
   "source": [
    "!g++ Kruskal.cpp -o Kruskal\n",
    "!./Kruskal"
   ]
  },
  {
   "cell_type": "markdown",
   "id": "3bdd5d15",
   "metadata": {},
   "source": [
    "Bài 4 Prim"
   ]
  },
  {
   "cell_type": "code",
   "execution_count": 15,
   "id": "29c03ae9",
   "metadata": {},
   "outputs": [
    {
     "name": "stdout",
     "output_type": "stream",
     "text": [
      "6 42\n",
      "4 2 2\n",
      "1 3 5\n",
      "3 4 3\n",
      "4 5 12\n",
      "3 6 16\n",
      "5 7 4\n"
     ]
    }
   ],
   "source": [
    "!g++ Prim.cpp -o Prim\n",
    "!./Prim"
   ]
  }
 ],
 "metadata": {
  "kernelspec": {
   "display_name": "Python 3",
   "language": "python",
   "name": "python3"
  },
  "language_info": {
   "codemirror_mode": {
    "name": "ipython",
    "version": 3
   },
   "file_extension": ".py",
   "mimetype": "text/x-python",
   "name": "python",
   "nbconvert_exporter": "python",
   "pygments_lexer": "ipython3",
   "version": "3.12.1"
  }
 },
 "nbformat": 4,
 "nbformat_minor": 5
}
